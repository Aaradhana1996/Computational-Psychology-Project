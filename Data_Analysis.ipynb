{
 "cells": [
  {
   "cell_type": "code",
   "execution_count": 136,
   "metadata": {
    "collapsed": true
   },
   "outputs": [],
   "source": [
    "import pandas as pd\n",
    "import matplotlib.pyplot as plt\n",
    "import matplotlib\n",
    "%matplotlib inline"
   ]
  },
  {
   "cell_type": "code",
   "execution_count": 137,
   "metadata": {
    "collapsed": true
   },
   "outputs": [],
   "source": [
    "responses = pd.read_csv('./data/NearMissResponses.csv')"
   ]
  },
  {
   "cell_type": "code",
   "execution_count": 138,
   "metadata": {},
   "outputs": [
    {
     "name": "stdout",
     "output_type": "stream",
     "text": [
      "before filtering: (21, 41)\n",
      "after filtering:  (19, 41)\n"
     ]
    }
   ],
   "source": [
    "filtered = responses.loc[responses['Choose the highest level of happiness that can be felt by any human. [Happiness]'] == 9]\n",
    "filtered = filtered.loc[responses['What was the numerical scale for the responses? (format as \"x-y\")'] == '1-9']\n",
    "print('before filtering:', responses.shape)\n",
    "print('after filtering: ', filtered.shape)"
   ]
  },
  {
   "cell_type": "code",
   "execution_count": 139,
   "metadata": {},
   "outputs": [
    {
     "name": "stdout",
     "output_type": "stream",
     "text": [
      "36\n"
     ]
    },
    {
     "data": {
      "text/plain": [
       "Scenario 1 [Happiness]         7.666667\n",
       "Scenario 1 [Sadness]           1.047619\n",
       "Scenario 1 [Surprise]          5.761905\n",
       "Scenario 1 [Disappointment]    1.047619\n",
       "Scenario 2 [Happiness]         8.238095\n",
       "Scenario 2 [Sadness]           1.047619\n",
       "Scenario 2 [Surprise]          7.571429\n",
       "Scenario 2 [Disappointment]    1.000000\n",
       "Scenario 3 [Happiness]         8.238095\n",
       "Scenario 3 [Sadness]           1.095238\n",
       "Scenario 3 [Surprise]          7.476190\n",
       "Scenario 3 [Disappointment]    1.095238\n",
       "Scenario 4 [Happiness]         3.380952\n",
       "Scenario 4 [Sadness]           3.666667\n",
       "Scenario 4 [Surprise]          2.285714\n",
       "Scenario 4 [Disappointment]    4.857143\n",
       "Scenario 5 [Happiness]         1.857143\n",
       "Scenario 5 [Sadness]           6.142857\n",
       "Scenario 5 [Surprise]          5.190476\n",
       "Scenario 5 [Disappointment]    7.571429\n",
       "Scenario 6 [Happiness]         2.714286\n",
       "Scenario 6 [Sadness]           4.571429\n",
       "Scenario 6 [Surprise]          4.380952\n",
       "Scenario 6 [Disappointment]    6.571429\n",
       "Scenario 7 [Happiness]         5.619048\n",
       "Scenario 7 [Sadness]           2.285714\n",
       "Scenario 7 [Surprise]          3.047619\n",
       "Scenario 7 [Disappointment]    2.714286\n",
       "Scenario 8 [Happiness]         4.809524\n",
       "Scenario 8 [Sadness]           3.333333\n",
       "Scenario 8 [Surprise]          5.142857\n",
       "Scenario 8 [Disappointment]    5.619048\n",
       "Scenario 9 [Happiness]         6.142857\n",
       "Scenario 9 [Sadness]           2.190476\n",
       "Scenario 9 [Surprise]          5.333333\n",
       "Scenario 9 [Disappointment]    2.190476\n",
       "dtype: float64"
      ]
     },
     "execution_count": 139,
     "metadata": {},
     "output_type": "execute_result"
    }
   ],
   "source": [
    "responses = responses.drop(['Timestamp', 'Choose the highest level of happiness that can be felt by any human. [Happiness]',\n",
    "                      'What was the numerical scale for the responses? (format as \"x-y\")',\n",
    "                      'What is your name? (optional)',\n",
    "                       'Any other comments?'], axis=1)\n",
    "means = responses.mean()\n",
    "print(len(means))\n",
    "means"
   ]
  },
  {
   "cell_type": "code",
   "execution_count": 140,
   "metadata": {
    "collapsed": true
   },
   "outputs": [],
   "source": [
    "data = {}\n",
    "emotions = ['Happiness', 'Sadness', 'Surprise', 'Disappointment']\n",
    "for i in range(0,4):\n",
    "    data.update({emotions[i]: [means[0 + i], means[4 + i], means[8 + i], means[12 + i], means[16 + i],\n",
    "                               means[20 + i], means[24 + i], means[28 + i], means[32 + i]]})\n",
    "index = []\n",
    "for i in range(0,10):\n",
    "    index.append('Scenario ' + str(i))"
   ]
  },
  {
   "cell_type": "code",
   "execution_count": 141,
   "metadata": {},
   "outputs": [
    {
     "data": {
      "text/plain": [
       "{'Disappointment': [1.0476190476190477,\n",
       "  1.0,\n",
       "  1.0952380952380953,\n",
       "  4.8571428571428568,\n",
       "  7.5714285714285712,\n",
       "  6.5714285714285712,\n",
       "  2.7142857142857144,\n",
       "  5.6190476190476186,\n",
       "  2.1904761904761907],\n",
       " 'Happiness': [7.666666666666667,\n",
       "  8.2380952380952372,\n",
       "  8.2380952380952372,\n",
       "  3.3809523809523809,\n",
       "  1.8571428571428572,\n",
       "  2.7142857142857144,\n",
       "  5.6190476190476186,\n",
       "  4.8095238095238093,\n",
       "  6.1428571428571432],\n",
       " 'Sadness': [1.0476190476190477,\n",
       "  1.0476190476190477,\n",
       "  1.0952380952380953,\n",
       "  3.6666666666666665,\n",
       "  6.1428571428571432,\n",
       "  4.5714285714285712,\n",
       "  2.2857142857142856,\n",
       "  3.3333333333333335,\n",
       "  2.1904761904761907],\n",
       " 'Surprise': [5.7619047619047619,\n",
       "  7.5714285714285712,\n",
       "  7.4761904761904763,\n",
       "  2.2857142857142856,\n",
       "  5.1904761904761907,\n",
       "  4.3809523809523814,\n",
       "  3.0476190476190474,\n",
       "  5.1428571428571432,\n",
       "  5.333333333333333]}"
      ]
     },
     "execution_count": 141,
     "metadata": {},
     "output_type": "execute_result"
    }
   ],
   "source": [
    "data"
   ]
  },
  {
   "cell_type": "code",
   "execution_count": 142,
   "metadata": {},
   "outputs": [
    {
     "data": {
      "text/html": [
       "<div>\n",
       "<style>\n",
       "    .dataframe thead tr:only-child th {\n",
       "        text-align: right;\n",
       "    }\n",
       "\n",
       "    .dataframe thead th {\n",
       "        text-align: left;\n",
       "    }\n",
       "\n",
       "    .dataframe tbody tr th {\n",
       "        vertical-align: top;\n",
       "    }\n",
       "</style>\n",
       "<table border=\"1\" class=\"dataframe\">\n",
       "  <thead>\n",
       "    <tr style=\"text-align: right;\">\n",
       "      <th></th>\n",
       "      <th>Disappointment</th>\n",
       "      <th>Happiness</th>\n",
       "      <th>Sadness</th>\n",
       "      <th>Surprise</th>\n",
       "    </tr>\n",
       "    <tr>\n",
       "      <th>names</th>\n",
       "      <th></th>\n",
       "      <th></th>\n",
       "      <th></th>\n",
       "      <th></th>\n",
       "    </tr>\n",
       "  </thead>\n",
       "  <tbody>\n",
       "    <tr>\n",
       "      <th>middle100</th>\n",
       "      <td>1.047619</td>\n",
       "      <td>7.666667</td>\n",
       "      <td>1.047619</td>\n",
       "      <td>5.761905</td>\n",
       "    </tr>\n",
       "    <tr>\n",
       "      <th>100near25</th>\n",
       "      <td>1.000000</td>\n",
       "      <td>8.238095</td>\n",
       "      <td>1.047619</td>\n",
       "      <td>7.571429</td>\n",
       "    </tr>\n",
       "    <tr>\n",
       "      <th>100near60</th>\n",
       "      <td>1.095238</td>\n",
       "      <td>8.238095</td>\n",
       "      <td>1.095238</td>\n",
       "      <td>7.476190</td>\n",
       "    </tr>\n",
       "    <tr>\n",
       "      <th>middle25</th>\n",
       "      <td>4.857143</td>\n",
       "      <td>3.380952</td>\n",
       "      <td>3.666667</td>\n",
       "      <td>2.285714</td>\n",
       "    </tr>\n",
       "    <tr>\n",
       "      <th>25near100</th>\n",
       "      <td>7.571429</td>\n",
       "      <td>1.857143</td>\n",
       "      <td>6.142857</td>\n",
       "      <td>5.190476</td>\n",
       "    </tr>\n",
       "    <tr>\n",
       "      <th>25near60</th>\n",
       "      <td>6.571429</td>\n",
       "      <td>2.714286</td>\n",
       "      <td>4.571429</td>\n",
       "      <td>4.380952</td>\n",
       "    </tr>\n",
       "    <tr>\n",
       "      <th>middle60</th>\n",
       "      <td>2.714286</td>\n",
       "      <td>5.619048</td>\n",
       "      <td>2.285714</td>\n",
       "      <td>3.047619</td>\n",
       "    </tr>\n",
       "    <tr>\n",
       "      <th>60near100</th>\n",
       "      <td>5.619048</td>\n",
       "      <td>4.809524</td>\n",
       "      <td>3.333333</td>\n",
       "      <td>5.142857</td>\n",
       "    </tr>\n",
       "    <tr>\n",
       "      <th>60near25</th>\n",
       "      <td>2.190476</td>\n",
       "      <td>6.142857</td>\n",
       "      <td>2.190476</td>\n",
       "      <td>5.333333</td>\n",
       "    </tr>\n",
       "  </tbody>\n",
       "</table>\n",
       "</div>"
      ],
      "text/plain": [
       "           Disappointment  Happiness   Sadness  Surprise\n",
       "names                                                   \n",
       "middle100        1.047619   7.666667  1.047619  5.761905\n",
       "100near25        1.000000   8.238095  1.047619  7.571429\n",
       "100near60        1.095238   8.238095  1.095238  7.476190\n",
       "middle25         4.857143   3.380952  3.666667  2.285714\n",
       "25near100        7.571429   1.857143  6.142857  5.190476\n",
       "25near60         6.571429   2.714286  4.571429  4.380952\n",
       "middle60         2.714286   5.619048  2.285714  3.047619\n",
       "60near100        5.619048   4.809524  3.333333  5.142857\n",
       "60near25         2.190476   6.142857  2.190476  5.333333"
      ]
     },
     "execution_count": 142,
     "metadata": {},
     "output_type": "execute_result"
    }
   ],
   "source": [
    "df = pd.DataFrame(data = data)\n",
    "names = ['middle100', '100near25', '100near60', 'middle25', '25near100', '25near60', 'middle60', '60near100', '60near25']\n",
    "df['names'] = names\n",
    "df = df.set_index('names')\n",
    "df"
   ]
  },
  {
   "cell_type": "code",
   "execution_count": 143,
   "metadata": {},
   "outputs": [
    {
     "data": {
      "text/html": [
       "<div>\n",
       "<style>\n",
       "    .dataframe thead tr:only-child th {\n",
       "        text-align: right;\n",
       "    }\n",
       "\n",
       "    .dataframe thead th {\n",
       "        text-align: left;\n",
       "    }\n",
       "\n",
       "    .dataframe tbody tr th {\n",
       "        vertical-align: top;\n",
       "    }\n",
       "</style>\n",
       "<table border=\"1\" class=\"dataframe\">\n",
       "  <thead>\n",
       "    <tr>\n",
       "      <th></th>\n",
       "      <th colspan=\"8\" halign=\"left\">Disappointment</th>\n",
       "      <th colspan=\"2\" halign=\"left\">Happiness</th>\n",
       "      <th>...</th>\n",
       "      <th colspan=\"2\" halign=\"left\">Sadness</th>\n",
       "      <th colspan=\"8\" halign=\"left\">Surprise</th>\n",
       "    </tr>\n",
       "    <tr>\n",
       "      <th></th>\n",
       "      <th>count</th>\n",
       "      <th>mean</th>\n",
       "      <th>std</th>\n",
       "      <th>min</th>\n",
       "      <th>25%</th>\n",
       "      <th>50%</th>\n",
       "      <th>75%</th>\n",
       "      <th>max</th>\n",
       "      <th>count</th>\n",
       "      <th>mean</th>\n",
       "      <th>...</th>\n",
       "      <th>75%</th>\n",
       "      <th>max</th>\n",
       "      <th>count</th>\n",
       "      <th>mean</th>\n",
       "      <th>std</th>\n",
       "      <th>min</th>\n",
       "      <th>25%</th>\n",
       "      <th>50%</th>\n",
       "      <th>75%</th>\n",
       "      <th>max</th>\n",
       "    </tr>\n",
       "    <tr>\n",
       "      <th>Scenario</th>\n",
       "      <th></th>\n",
       "      <th></th>\n",
       "      <th></th>\n",
       "      <th></th>\n",
       "      <th></th>\n",
       "      <th></th>\n",
       "      <th></th>\n",
       "      <th></th>\n",
       "      <th></th>\n",
       "      <th></th>\n",
       "      <th></th>\n",
       "      <th></th>\n",
       "      <th></th>\n",
       "      <th></th>\n",
       "      <th></th>\n",
       "      <th></th>\n",
       "      <th></th>\n",
       "      <th></th>\n",
       "      <th></th>\n",
       "      <th></th>\n",
       "      <th></th>\n",
       "    </tr>\n",
       "  </thead>\n",
       "  <tbody>\n",
       "    <tr>\n",
       "      <th>Middle</th>\n",
       "      <td>3.0</td>\n",
       "      <td>2.873016</td>\n",
       "      <td>1.909716</td>\n",
       "      <td>1.047619</td>\n",
       "      <td>1.880952</td>\n",
       "      <td>2.714286</td>\n",
       "      <td>3.785714</td>\n",
       "      <td>4.857143</td>\n",
       "      <td>3.0</td>\n",
       "      <td>5.555556</td>\n",
       "      <td>...</td>\n",
       "      <td>2.976190</td>\n",
       "      <td>3.666667</td>\n",
       "      <td>3.0</td>\n",
       "      <td>3.698413</td>\n",
       "      <td>1.827190</td>\n",
       "      <td>2.285714</td>\n",
       "      <td>2.666667</td>\n",
       "      <td>3.047619</td>\n",
       "      <td>4.404762</td>\n",
       "      <td>5.761905</td>\n",
       "    </tr>\n",
       "    <tr>\n",
       "      <th>Near Hit</th>\n",
       "      <td>3.0</td>\n",
       "      <td>1.428571</td>\n",
       "      <td>0.661545</td>\n",
       "      <td>1.000000</td>\n",
       "      <td>1.047619</td>\n",
       "      <td>1.095238</td>\n",
       "      <td>1.642857</td>\n",
       "      <td>2.190476</td>\n",
       "      <td>3.0</td>\n",
       "      <td>7.539683</td>\n",
       "      <td>...</td>\n",
       "      <td>1.642857</td>\n",
       "      <td>2.190476</td>\n",
       "      <td>3.0</td>\n",
       "      <td>6.793651</td>\n",
       "      <td>1.265568</td>\n",
       "      <td>5.333333</td>\n",
       "      <td>6.404762</td>\n",
       "      <td>7.476190</td>\n",
       "      <td>7.523810</td>\n",
       "      <td>7.571429</td>\n",
       "    </tr>\n",
       "    <tr>\n",
       "      <th>Near Miss</th>\n",
       "      <td>3.0</td>\n",
       "      <td>6.587302</td>\n",
       "      <td>0.976287</td>\n",
       "      <td>5.619048</td>\n",
       "      <td>6.095238</td>\n",
       "      <td>6.571429</td>\n",
       "      <td>7.071429</td>\n",
       "      <td>7.571429</td>\n",
       "      <td>3.0</td>\n",
       "      <td>3.126984</td>\n",
       "      <td>...</td>\n",
       "      <td>5.357143</td>\n",
       "      <td>6.142857</td>\n",
       "      <td>3.0</td>\n",
       "      <td>4.904762</td>\n",
       "      <td>0.454257</td>\n",
       "      <td>4.380952</td>\n",
       "      <td>4.761905</td>\n",
       "      <td>5.142857</td>\n",
       "      <td>5.166667</td>\n",
       "      <td>5.190476</td>\n",
       "    </tr>\n",
       "  </tbody>\n",
       "</table>\n",
       "<p>3 rows × 32 columns</p>\n",
       "</div>"
      ],
      "text/plain": [
       "          Disappointment                                                    \\\n",
       "                   count      mean       std       min       25%       50%   \n",
       "Scenario                                                                     \n",
       "Middle               3.0  2.873016  1.909716  1.047619  1.880952  2.714286   \n",
       "Near Hit             3.0  1.428571  0.661545  1.000000  1.047619  1.095238   \n",
       "Near Miss            3.0  6.587302  0.976287  5.619048  6.095238  6.571429   \n",
       "\n",
       "                              Happiness              ...      Sadness  \\\n",
       "                75%       max     count      mean    ...          75%   \n",
       "Scenario                                             ...                \n",
       "Middle     3.785714  4.857143       3.0  5.555556    ...     2.976190   \n",
       "Near Hit   1.642857  2.190476       3.0  7.539683    ...     1.642857   \n",
       "Near Miss  7.071429  7.571429       3.0  3.126984    ...     5.357143   \n",
       "\n",
       "                    Surprise                                          \\\n",
       "                max    count      mean       std       min       25%   \n",
       "Scenario                                                               \n",
       "Middle     3.666667      3.0  3.698413  1.827190  2.285714  2.666667   \n",
       "Near Hit   2.190476      3.0  6.793651  1.265568  5.333333  6.404762   \n",
       "Near Miss  6.142857      3.0  4.904762  0.454257  4.380952  4.761905   \n",
       "\n",
       "                                         \n",
       "                50%       75%       max  \n",
       "Scenario                                 \n",
       "Middle     3.047619  4.404762  5.761905  \n",
       "Near Hit   7.476190  7.523810  7.571429  \n",
       "Near Miss  5.142857  5.166667  5.190476  \n",
       "\n",
       "[3 rows x 32 columns]"
      ]
     },
     "execution_count": 143,
     "metadata": {},
     "output_type": "execute_result"
    }
   ],
   "source": [
    "scenario = ['Middle', 'Near Hit', 'Near Hit', 'Middle', 'Near Miss', 'Near Miss', 'Middle', 'Near Miss', 'Near Hit']\n",
    "df['Scenario'] = scenario\n",
    "groupby_scenario = df.groupby('Scenario').describe()\n",
    "groupby_scenario"
   ]
  },
  {
   "cell_type": "code",
   "execution_count": 144,
   "metadata": {},
   "outputs": [
    {
     "name": "stdout",
     "output_type": "stream",
     "text": [
      "\n",
      "\n",
      "Happiness\n",
      "           count      mean       std       min       25%       50%       75%  \\\n",
      "Scenario                                                                       \n",
      "Middle       3.0  5.555556  2.143562  3.380952  4.500000  5.619048  6.642857   \n",
      "Near Hit     3.0  7.539683  1.209686  6.142857  7.190476  8.238095  8.238095   \n",
      "Near Miss    3.0  3.126984  1.518841  1.857143  2.285714  2.714286  3.761905   \n",
      "\n",
      "                max  \n",
      "Scenario             \n",
      "Middle     7.666667  \n",
      "Near Hit   8.238095  \n",
      "Near Miss  4.809524  \n",
      "\n",
      "\n",
      "Sadness\n",
      "           count      mean       std       min       25%       50%       75%  \\\n",
      "Scenario                                                                       \n",
      "Middle       3.0  2.333333  1.310173  1.047619  1.666667  2.285714  2.976190   \n",
      "Near Hit     3.0  1.444444  0.646521  1.047619  1.071429  1.095238  1.642857   \n",
      "Near Miss    3.0  4.682540  1.408054  3.333333  3.952381  4.571429  5.357143   \n",
      "\n",
      "                max  \n",
      "Scenario             \n",
      "Middle     3.666667  \n",
      "Near Hit   2.190476  \n",
      "Near Miss  6.142857  \n",
      "\n",
      "\n",
      "Surprise\n",
      "           count      mean       std       min       25%       50%       75%  \\\n",
      "Scenario                                                                       \n",
      "Middle       3.0  3.698413  1.827190  2.285714  2.666667  3.047619  4.404762   \n",
      "Near Hit     3.0  6.793651  1.265568  5.333333  6.404762  7.476190  7.523810   \n",
      "Near Miss    3.0  4.904762  0.454257  4.380952  4.761905  5.142857  5.166667   \n",
      "\n",
      "                max  \n",
      "Scenario             \n",
      "Middle     5.761905  \n",
      "Near Hit   7.571429  \n",
      "Near Miss  5.190476  \n",
      "\n",
      "\n",
      "Disappointment\n",
      "           count      mean       std       min       25%       50%       75%  \\\n",
      "Scenario                                                                       \n",
      "Middle       3.0  2.873016  1.909716  1.047619  1.880952  2.714286  3.785714   \n",
      "Near Hit     3.0  1.428571  0.661545  1.000000  1.047619  1.095238  1.642857   \n",
      "Near Miss    3.0  6.587302  0.976287  5.619048  6.095238  6.571429  7.071429   \n",
      "\n",
      "                max  \n",
      "Scenario             \n",
      "Middle     4.857143  \n",
      "Near Hit   2.190476  \n",
      "Near Miss  7.571429  \n"
     ]
    }
   ],
   "source": [
    "for e in emotions:\n",
    "    print('\\n')\n",
    "    print(e)\n",
    "    print(groupby_scenario[e])"
   ]
  },
  {
   "cell_type": "code",
   "execution_count": 145,
   "metadata": {},
   "outputs": [
    {
     "data": {
      "text/plain": [
       "<matplotlib.axes._subplots.AxesSubplot at 0x1a21173668>"
      ]
     },
     "execution_count": 145,
     "metadata": {},
     "output_type": "execute_result"
    },
    {
     "data": {
      "image/png": "[encoded data removed]",
      "text/plain": [
       "<matplotlib.figure.Figure at 0x1a20a6fb70>"
      ]
     },
     "metadata": {},
     "output_type": "display_data"
    }
   ],
   "source": [
    "df.plot.bar()"
   ]
  },
  {
   "cell_type": "code",
   "execution_count": 146,
   "metadata": {},
   "outputs": [
    {
     "data": {
      "text/plain": [
       "Scenario\n",
       "Middle       AxesSubplot(0.125,0.125;0.775x0.755)\n",
       "Near Hit     AxesSubplot(0.125,0.125;0.775x0.755)\n",
       "Near Miss    AxesSubplot(0.125,0.125;0.775x0.755)\n",
       "dtype: object"
      ]
     },
     "execution_count": 146,
     "metadata": {},
     "output_type": "execute_result"
    },
    {
     "data": {
      "image/png": "[encoded data removed]",
      "text/plain": [
       "<matplotlib.figure.Figure at 0x1a290f9710>"
      ]
     },
     "metadata": {},
     "output_type": "display_data"
    },
    {
     "data": {
      "image/png": "[encoded data removed]",
      "text/plain": [
       "<matplotlib.figure.Figure at 0x1a28e454e0>"
      ]
     },
     "metadata": {},
     "output_type": "display_data"
    },
    {
     "data": {
      "image/png": "[encoded data removed]",
      "text/plain": [
       "<matplotlib.figure.Figure at 0x1a28e649e8>"
      ]
     },
     "metadata": {},
     "output_type": "display_data"
    },
    {
     "data": {
      "image/png": "[encoded data removed]",
      "text/plain": [
       "<matplotlib.figure.Figure at 0x1a29178048>"
      ]
     },
     "metadata": {},
     "output_type": "display_data"
    }
   ],
   "source": [
    "df.groupby('Scenario').plot.bar()"
   ]
  },
  {
   "cell_type": "code",
   "execution_count": 147,
   "metadata": {},
   "outputs": [
    {
     "data": {
      "text/html": [
       "<div>\n",
       "<style>\n",
       "    .dataframe thead tr:only-child th {\n",
       "        text-align: right;\n",
       "    }\n",
       "\n",
       "    .dataframe thead th {\n",
       "        text-align: left;\n",
       "    }\n",
       "\n",
       "    .dataframe tbody tr th {\n",
       "        vertical-align: top;\n",
       "    }\n",
       "</style>\n",
       "<table border=\"1\" class=\"dataframe\">\n",
       "  <thead>\n",
       "    <tr style=\"text-align: right;\">\n",
       "      <th></th>\n",
       "      <th>Disappointment</th>\n",
       "      <th>Happiness</th>\n",
       "      <th>Sadness</th>\n",
       "      <th>Surprise</th>\n",
       "    </tr>\n",
       "    <tr>\n",
       "      <th>Scenario</th>\n",
       "      <th></th>\n",
       "      <th></th>\n",
       "      <th></th>\n",
       "      <th></th>\n",
       "    </tr>\n",
       "  </thead>\n",
       "  <tbody>\n",
       "    <tr>\n",
       "      <th>Middle</th>\n",
       "      <td>2.873016</td>\n",
       "      <td>5.555556</td>\n",
       "      <td>2.333333</td>\n",
       "      <td>3.698413</td>\n",
       "    </tr>\n",
       "    <tr>\n",
       "      <th>Near Hit</th>\n",
       "      <td>1.428571</td>\n",
       "      <td>7.539683</td>\n",
       "      <td>1.444444</td>\n",
       "      <td>6.793651</td>\n",
       "    </tr>\n",
       "    <tr>\n",
       "      <th>Near Miss</th>\n",
       "      <td>6.587302</td>\n",
       "      <td>3.126984</td>\n",
       "      <td>4.682540</td>\n",
       "      <td>4.904762</td>\n",
       "    </tr>\n",
       "  </tbody>\n",
       "</table>\n",
       "</div>"
      ],
      "text/plain": [
       "           Disappointment  Happiness   Sadness  Surprise\n",
       "Scenario                                                \n",
       "Middle           2.873016   5.555556  2.333333  3.698413\n",
       "Near Hit         1.428571   7.539683  1.444444  6.793651\n",
       "Near Miss        6.587302   3.126984  4.682540  4.904762"
      ]
     },
     "execution_count": 147,
     "metadata": {},
     "output_type": "execute_result"
    }
   ],
   "source": [
    "data = {e: groupby_scenario[e]['mean'] for e in emotions}\n",
    "averages = pd.DataFrame(data = data)\n",
    "averages"
   ]
  },
  {
   "cell_type": "code",
   "execution_count": 148,
   "metadata": {},
   "outputs": [
    {
     "data": {
      "text/plain": [
       "<matplotlib.axes._subplots.AxesSubplot at 0x1a2944f358>"
      ]
     },
     "execution_count": 148,
     "metadata": {},
     "output_type": "execute_result"
    },
    {
     "data": {
      "image/png": "[encoded data removed]",
      "text/plain": [
       "<matplotlib.figure.Figure at 0x1a28ec8e48>"
      ]
     },
     "metadata": {},
     "output_type": "display_data"
    }
   ],
   "source": [
    "averages.plot.bar()"
   ]
  },
  {
   "cell_type": "markdown",
   "metadata": {},
   "source": [
    "## Linear Regression"
   ]
  },
  {
   "cell_type": "code",
   "execution_count": 149,
   "metadata": {
    "collapsed": true
   },
   "outputs": [],
   "source": [
    "import sklearn.linear_model as lm\n",
    "import sklearn.metrics as metrics\n",
    "import numpy as np"
   ]
  },
  {
   "cell_type": "code",
   "execution_count": 162,
   "metadata": {
    "collapsed": true
   },
   "outputs": [],
   "source": [
    "linreg = lm.LinearRegression(n_jobs = 8, fit_intercept=True)"
   ]
  },
  {
   "cell_type": "code",
   "execution_count": 163,
   "metadata": {
    "collapsed": true
   },
   "outputs": [],
   "source": [
    "def NM(dist, at, near):\n",
    "    return(1/dist * (at-near))"
   ]
  },
  {
   "cell_type": "code",
   "execution_count": 164,
   "metadata": {},
   "outputs": [
    {
     "data": {
      "text/plain": [
       "54.0"
      ]
     },
     "execution_count": 164,
     "metadata": {},
     "output_type": "execute_result"
    }
   ],
   "source": [
    "PV = .4 * 25 + .4 * 60 + .2 * 100\n",
    "PV"
   ]
  },
  {
   "cell_type": "markdown",
   "metadata": {},
   "source": [
    "### Near hits, misses, and middle"
   ]
  },
  {
   "cell_type": "code",
   "execution_count": 172,
   "metadata": {},
   "outputs": [
    {
     "name": "stdout",
     "output_type": "stream",
     "text": [
      "-------------------------------------------------------\n",
      "Emotion: Happiness\n",
      "coefs:\n",
      "\tWin:\t 0.0309707000191\n",
      "\tPE:\t 0.0309707000191\n",
      "\tabsPE:\t -0.0114600437876\n",
      "\tNM:\t 0.000630694092233\n",
      "\n",
      "intercept: \t 3.56952672168\n",
      "\n",
      "r2: \t\t 0.979521889476\n",
      "\n",
      "-------------------------------------------------------\n",
      "Emotion: Sadness\n",
      "coefs:\n",
      "\tWin:\t -0.0182971850578\n",
      "\tPE:\t -0.0182971850578\n",
      "\tabsPE:\t 0.0145388615216\n",
      "\tNM:\t -0.000821827744905\n",
      "\n",
      "intercept: \t 3.6961613897\n",
      "\n",
      "r2: \t\t 0.933566720566\n",
      "\n",
      "-------------------------------------------------------\n",
      "Emotion: Surprise\n",
      "coefs:\n",
      "\tWin:\t 0.0229653285854\n",
      "\tPE:\t 0.0229653285854\n",
      "\tabsPE:\t 0.0270593869732\n",
      "\tNM:\t -0.00061378792148\n",
      "\n",
      "intercept: \t 2.80940890208\n",
      "\n",
      "r2: \t\t 0.658111956811\n",
      "\n",
      "-------------------------------------------------------\n",
      "Emotion: Disappointment\n",
      "coefs:\n",
      "\tWin:\t -0.0226282982417\n",
      "\tPE:\t -0.0226282982417\n",
      "\tabsPE:\t 0.0115968801314\n",
      "\tNM:\t -0.0013924110078\n",
      "\n",
      "intercept: \t 4.88540921084\n",
      "\n",
      "r2: \t\t 0.923104218604\n",
      "\n",
      "-------------------------------------------------------\n"
     ]
    },
    {
     "data": {
      "image/png": "[encoded data removed]",
      "text/plain": [
       "<matplotlib.figure.Figure at 0x1a2999bd30>"
      ]
     },
     "metadata": {},
     "output_type": "display_data"
    }
   ],
   "source": [
    "# get the variable data into X\n",
    "values = [[25, 60], [60, 60], [60, 25], [60, 100], [100, 60], [100, 100], [25, 100], [25, 25], [100, 25]]\n",
    "X = [[x[0], x[0] - PV, abs(x[0] - PV), NM(.05, x[0], x[1])] for x in values]\n",
    "# get the target data into Y\n",
    "targets = ['25near60', 'middle60', '60near25', '60near100', 'middle100', '100near60', '25near100', 'middle25', '100near25']\n",
    "Y = [[df.loc[x][e] for x in targets] for e in emotions]\n",
    "\n",
    "HM_coef = []\n",
    "HM_intercept = []\n",
    "print('-------------------------------------------------------')\n",
    "for e in range(len(emotions)):\n",
    "    HM_coef.append([])\n",
    "    HM_intercept.append(0)\n",
    "    print('Emotion:', emotions[e])\n",
    "    line = linreg.fit(X, Y[e])\n",
    "    HM_coef[e] = line.coef_\n",
    "    HM_intercept[e] = line.intercept_\n",
    "    print('coefs:')\n",
    "    print('\\tWin:\\t', line.coef_[0])\n",
    "    print('\\tPE:\\t', line.coef_[1])\n",
    "    print('\\tabsPE:\\t', line.coef_[2])\n",
    "    print('\\tNM:\\t', line.coef_[3])\n",
    "    print('\\nintercept:', '\\t', line.intercept_)\n",
    "    pred = []\n",
    "    for i in range(len(X)):\n",
    "        val = 0\n",
    "        for j in range(len(X[i])):\n",
    "            val = val + X[i][j] * HM_coef[e][j]\n",
    "        val = val + HM_intercept[e]\n",
    "        pred.append(val)\n",
    "    plt.plot(Y[e], pred, 'ro')\n",
    "    plt.plot([0,1,2,3,4,5,6,7,8,9,10])\n",
    "    plt.title('Model Fit – Near Hits and Misses and Middles')\n",
    "    plt.xlabel('Expected')\n",
    "    plt.ylabel('Predicted')\n",
    "    print('\\nr2:', '\\t\\t', metrics.r2_score(Y[e], pred))\n",
    "    print('\\n-------------------------------------------------------')"
   ]
  },
  {
   "cell_type": "markdown",
   "metadata": {},
   "source": [
    "### Near Misses and Near Hits"
   ]
  },
  {
   "cell_type": "code",
   "execution_count": 165,
   "metadata": {},
   "outputs": [
    {
     "name": "stdout",
     "output_type": "stream",
     "text": [
      "-------------------------------------------------------\n",
      "Emotion: Happiness\n",
      "coefs:\n",
      "\tWin:\t 0.0292757309004\n",
      "\tPE:\t 0.0292757309004\n",
      "\tabsPE:\t -0.013341543514\n",
      "\tNM:\t 0.000794590025359\n",
      "\n",
      "intercept: \t 3.66377099912\n",
      "\n",
      "r2: \t\t 0.994851055968\n",
      "\n",
      "-------------------------------------------------------\n",
      "Emotion: Sadness\n",
      "coefs:\n",
      "\tWin:\t -0.0174175156188\n",
      "\tPE:\t -0.0174175156188\n",
      "\tabsPE:\t 0.0192426108374\n",
      "\tNM:\t -0.00088898281206\n",
      "\n",
      "intercept: \t 3.75155598712\n",
      "\n",
      "r2: \t\t 0.973048110692\n",
      "\n",
      "-------------------------------------------------------\n",
      "Emotion: Surprise\n",
      "coefs:\n",
      "\tWin:\t 0.0165401132908\n",
      "\tPE:\t 0.0165401132908\n",
      "\tabsPE:\t 0.0266830870279\n",
      "\tNM:\t -8.7348548887e-05\n",
      "\n",
      "intercept: \t 3.98198181129\n",
      "\n",
      "r2: \t\t 0.962371711543\n",
      "\n",
      "-------------------------------------------------------\n",
      "Emotion: Disappointment\n",
      "coefs:\n",
      "\tWin:\t -0.0147919277893\n",
      "\tPE:\t -0.0147919277893\n",
      "\tabsPE:\t 0.0114942528736\n",
      "\tNM:\t -0.00177796562412\n",
      "\n",
      "intercept: \t 4.72316534041\n",
      "\n",
      "r2: \t\t 0.975650692491\n",
      "\n",
      "-------------------------------------------------------\n"
     ]
    },
    {
     "data": {
      "image/png": "[encoded data removed]",
      "text/plain": [
       "<matplotlib.figure.Figure at 0x1a2a23e898>"
      ]
     },
     "metadata": {},
     "output_type": "display_data"
    }
   ],
   "source": [
    "# get the variable data into X\n",
    "values = [[25, 60], [60, 25], [60, 100], [100, 60], [25, 100], [100, 25]]\n",
    "X = [[x[0], x[0] - PV, abs(x[0] - PV), NM(.05, x[0], x[1])] for x in values]\n",
    "# get the target data into Y\n",
    "targets = ['25near60', '60near25', '60near100', '100near60', '25near100', '100near25']\n",
    "Y = [[df.loc[x][e] for x in targets] for e in emotions]\n",
    "\n",
    "HM_coef = []\n",
    "HM_intercept = []\n",
    "print('-------------------------------------------------------')\n",
    "for e in range(len(emotions)):\n",
    "    HM_coef.append([])\n",
    "    HM_intercept.append(0)\n",
    "    print('Emotion:', emotions[e])\n",
    "    line = linreg.fit(X, Y[e])\n",
    "    HM_coef[e] = line.coef_\n",
    "    HM_intercept[e] = line.intercept_\n",
    "    print('coefs:')\n",
    "    print('\\tWin:\\t', line.coef_[0])\n",
    "    print('\\tPE:\\t', line.coef_[1])\n",
    "    print('\\tabsPE:\\t', line.coef_[2])\n",
    "    print('\\tNM:\\t', line.coef_[3])\n",
    "    print('\\nintercept:', '\\t', line.intercept_)\n",
    "    pred = []\n",
    "    for i in range(len(X)):\n",
    "        val = 0\n",
    "        for j in range(len(X[i])):\n",
    "            val = val + X[i][j] * HM_coef[e][j]\n",
    "        val = val + HM_intercept[e]\n",
    "        pred.append(val)\n",
    "    plt.plot(Y[e], pred, 'ro')\n",
    "    plt.plot([0,1,2,3,4,5,6,7,8,9,10])\n",
    "    plt.title('Model Fit – Near Hits and Misses')\n",
    "    plt.xlabel('Expected')\n",
    "    plt.ylabel('Predicted')\n",
    "    print('\\nr2:', '\\t\\t', metrics.r2_score(Y[e], pred))\n",
    "    print('\\n-------------------------------------------------------')"
   ]
  },
  {
   "cell_type": "markdown",
   "metadata": {
    "collapsed": true
   },
   "source": [
    "### Near Misses"
   ]
  },
  {
   "cell_type": "code",
   "execution_count": 166,
   "metadata": {},
   "outputs": [
    {
     "name": "stdout",
     "output_type": "stream",
     "text": [
      "-------------------------------------------------------\n",
      "Emotion: Happiness\n",
      "coefs:\n",
      "\tWin:\t 0.0258755734587\n",
      "\tPE:\t 0.0258755734587\n",
      "\tabsPE:\t -0.0170039482728\n",
      "\tNM:\t 0.00107142857143\n",
      "\n",
      "intercept: \t 4.06090250803\n",
      "\n",
      "r2: \t\t 1.0\n",
      "\n",
      "-------------------------------------------------------\n",
      "Emotion: Sadness\n",
      "coefs:\n",
      "\tWin:\t -0.0168540897393\n",
      "\tPE:\t -0.0168540897393\n",
      "\tabsPE:\t 0.0110755446858\n",
      "\tNM:\t -0.00196428571429\n",
      "\n",
      "intercept: \t 2.80782141658\n",
      "\n",
      "r2: \t\t 1.0\n",
      "\n",
      "-------------------------------------------------------\n",
      "Emotion: Surprise\n",
      "coefs:\n",
      "\tWin:\t 0.0077626720376\n",
      "\tPE:\t 0.0077626720376\n",
      "\tabsPE:\t -0.00510118448185\n",
      "\tNM:\t -0.0010119047619\n",
      "\n",
      "intercept: \t 3.85160408574\n",
      "\n",
      "r2: \t\t 1.0\n",
      "\n",
      "-------------------------------------------------------\n",
      "Emotion: Disappointment\n",
      "coefs:\n",
      "\tWin:\t -0.0126580508\n",
      "\tPE:\t -0.0126580508\n",
      "\tabsPE:\t 0.0083181476686\n",
      "\tNM:\t -0.00125\n",
      "\n",
      "intercept: \t 5.40457008584\n",
      "\n",
      "r2: \t\t 1.0\n",
      "\n",
      "-------------------------------------------------------\n"
     ]
    },
    {
     "data": {
      "image/png": "[encoded data removed]",
      "text/plain": [
       "<matplotlib.figure.Figure at 0x1a2a3e6390>"
      ]
     },
     "metadata": {},
     "output_type": "display_data"
    }
   ],
   "source": [
    "# get the variable data into X\n",
    "values = [[25, 60], [60, 100], [25, 100]]\n",
    "X = [[x[0], x[0] - PV, abs(x[0] - PV), NM(.05, x[0], x[1])] for x in values]\n",
    "# get the target data into Y\n",
    "targets = ['25near60', '60near100', '25near100']\n",
    "Y = [[df.loc[x][e] for x in targets] for e in emotions]\n",
    "\n",
    "M_coef = []\n",
    "M_intercept = []\n",
    "print('-------------------------------------------------------')\n",
    "for e in range(len(emotions)):\n",
    "    M_coef.append([])\n",
    "    M_intercept.append(0)\n",
    "    print('Emotion:', emotions[e])\n",
    "    line = linreg.fit(X, Y[e])\n",
    "    M_coef[e] = line.coef_\n",
    "    M_intercept[e] = line.intercept_\n",
    "    print('coefs:')\n",
    "    print('\\tWin:\\t', line.coef_[0])\n",
    "    print('\\tPE:\\t', line.coef_[1])\n",
    "    print('\\tabsPE:\\t', line.coef_[2])\n",
    "    print('\\tNM:\\t', line.coef_[3])\n",
    "    print('\\nintercept:', '\\t', line.intercept_)\n",
    "    pred = []\n",
    "    for i in range(len(X)):\n",
    "        val = 0\n",
    "        for j in range(len(X[i])):\n",
    "            val = val + X[i][j] * M_coef[e][j]\n",
    "        val = val + M_intercept[e]\n",
    "        pred.append(val)\n",
    "    plt.plot(Y[e], pred, 'ro')\n",
    "    plt.plot([0,1,2,3,4,5,6,7,8,9,10])\n",
    "    plt.title('Model Fit – Near Misses')\n",
    "    plt.xlabel('Expected')\n",
    "    plt.ylabel('Predicted')\n",
    "    print('\\nr2:', '\\t\\t', metrics.r2_score(Y[e], pred))\n",
    "    print('\\n-------------------------------------------------------')"
   ]
  },
  {
   "cell_type": "markdown",
   "metadata": {},
   "source": [
    "### Near Hits"
   ]
  },
  {
   "cell_type": "code",
   "execution_count": 167,
   "metadata": {},
   "outputs": [
    {
     "name": "stdout",
     "output_type": "stream",
     "text": [
      "-------------------------------------------------------\n",
      "Emotion: Happiness\n",
      "coefs:\n",
      "\tWin:\t 0.0174603174603\n",
      "\tPE:\t 0.0174603174603\n",
      "\tabsPE:\t 0.0174603174603\n",
      "\tNM:\t -3.46944695195e-18\n",
      "\n",
      "intercept: \t 4.88571428571\n",
      "\n",
      "r2: \t\t 1.0\n",
      "\n",
      "-------------------------------------------------------\n",
      "Emotion: Sadness\n",
      "coefs:\n",
      "\tWin:\t -0.00907029478458\n",
      "\tPE:\t -0.00907029478458\n",
      "\tabsPE:\t -0.00907029478458\n",
      "\tNM:\t -6.80272108844e-05\n",
      "\n",
      "intercept: \t 2.89115646259\n",
      "\n",
      "r2: \t\t 1.0\n",
      "\n",
      "-------------------------------------------------------\n",
      "Emotion: Surprise\n",
      "coefs:\n",
      "\tWin:\t 0.0177437641723\n",
      "\tPE:\t 0.0177437641723\n",
      "\tabsPE:\t 0.0177437641723\n",
      "\tNM:\t 0.000136054421769\n",
      "\n",
      "intercept: \t 3.96054421769\n",
      "\n",
      "r2: \t\t 1.0\n",
      "\n",
      "-------------------------------------------------------\n",
      "Emotion: Disappointment\n",
      "coefs:\n",
      "\tWin:\t -0.00901360544218\n",
      "\tPE:\t -0.00901360544218\n",
      "\tabsPE:\t -0.00901360544218\n",
      "\tNM:\t -0.000136054421769\n",
      "\n",
      "intercept: \t 2.93469387755\n",
      "\n",
      "r2: \t\t 1.0\n",
      "\n",
      "-------------------------------------------------------\n"
     ]
    },
    {
     "data": {
      "image/png": "[encoded data removed]",
      "text/plain": [
       "<matplotlib.figure.Figure at 0x1a2a4c6198>"
      ]
     },
     "metadata": {},
     "output_type": "display_data"
    }
   ],
   "source": [
    "# get the variable data into X\n",
    "values = [[60, 25],[100, 60], [100, 25]]\n",
    "X = [[x[0], x[0] - PV, abs(x[0] - PV), NM(.05, x[0], x[1])] for x in values]\n",
    "# get the target data into Y\n",
    "targets = ['60near25', '100near60', '100near25']\n",
    "Y = [[df.loc[x][e] for x in targets] for e in emotions]\n",
    "\n",
    "H_coef = []\n",
    "H_intercept = []\n",
    "print('-------------------------------------------------------')\n",
    "for e in range(len(emotions)):\n",
    "    H_coef.append([])\n",
    "    H_intercept.append(0)\n",
    "    print('Emotion:', emotions[e])\n",
    "    line = linreg.fit(X, Y[e])\n",
    "    H_coef[e] = line.coef_\n",
    "    H_intercept[e] = line.intercept_\n",
    "    print('coefs:')\n",
    "    print('\\tWin:\\t', line.coef_[0])\n",
    "    print('\\tPE:\\t', line.coef_[1])\n",
    "    print('\\tabsPE:\\t', line.coef_[2])\n",
    "    print('\\tNM:\\t', line.coef_[3])\n",
    "    print('\\nintercept:', '\\t', line.intercept_)\n",
    "    pred = []\n",
    "    for i in range(len(X)):\n",
    "        val = 0\n",
    "        for j in range(len(X[i])):\n",
    "            val = val + X[i][j] * H_coef[e][j]\n",
    "        val = val + H_intercept[e]\n",
    "        pred.append(val)\n",
    "    plt.plot(Y[e], pred, 'ro')\n",
    "    plt.plot([0,1,2,3,4,5,6,7,8,9,10])\n",
    "    plt.title('Model Fit – Near Hits')\n",
    "    plt.xlabel('Expected')\n",
    "    plt.ylabel('Predicted')\n",
    "    print('\\nr2:', '\\t\\t', metrics.r2_score(Y[e], pred))\n",
    "    print('\\n-------------------------------------------------------')"
   ]
  },
  {
   "cell_type": "markdown",
   "metadata": {},
   "source": [
    "### Near Hits and Middle"
   ]
  },
  {
   "cell_type": "code",
   "execution_count": 170,
   "metadata": {},
   "outputs": [
    {
     "name": "stdout",
     "output_type": "stream",
     "text": [
      "-------------------------------------------------------\n",
      "Emotion: Happiness\n",
      "coefs:\n",
      "\tWin:\t 0.0299890065382\n",
      "\tPE:\t 0.0299890065382\n",
      "\tabsPE:\t -0.0105305791819\n",
      "\tNM:\t 0.00045304634612\n",
      "\n",
      "intercept: \t 3.80629520338\n",
      "\n",
      "r2: \t\t 0.995930462555\n",
      "\n",
      "-------------------------------------------------------\n",
      "Emotion: Sadness\n",
      "coefs:\n",
      "\tWin:\t -0.0180200246605\n",
      "\tPE:\t -0.0180200246605\n",
      "\tabsPE:\t 0.00691605464409\n",
      "\tNM:\t -2.314413007e-05\n",
      "\n",
      "intercept: \t 3.39402098335\n",
      "\n",
      "r2: \t\t 0.999026060624\n",
      "\n",
      "-------------------------------------------------------\n",
      "Emotion: Surprise\n",
      "coefs:\n",
      "\tWin:\t 0.0219390266896\n",
      "\tPE:\t 0.0219390266896\n",
      "\tabsPE:\t 0.00818611372148\n",
      "\tNM:\t 0.00159231614882\n",
      "\n",
      "intercept: \t 2.13607309455\n",
      "\n",
      "r2: \t\t 0.950167736559\n",
      "\n",
      "-------------------------------------------------------\n",
      "Emotion: Disappointment\n",
      "coefs:\n",
      "\tWin:\t -0.0268911223307\n",
      "\tPE:\t -0.0268911223307\n",
      "\tabsPE:\t 0.0203086000395\n",
      "\tNM:\t -0.000157958687728\n",
      "\n",
      "intercept: \t 4.16062896667\n",
      "\n",
      "r2: \t\t 0.990485925533\n",
      "\n",
      "-------------------------------------------------------\n"
     ]
    },
    {
     "data": {
      "image/png": "[encoded data removed]",
      "text/plain": [
       "<matplotlib.figure.Figure at 0x1a2a535198>"
      ]
     },
     "metadata": {},
     "output_type": "display_data"
    }
   ],
   "source": [
    "# get the variable data into X\n",
    "values = [[60, 25], [60, 60],[100, 60], [100, 100], [100, 25], [25, 25]]\n",
    "X = [[x[0], x[0] - PV, abs(x[0] - PV), NM(.05, x[0], x[1])] for x in values]\n",
    "# get the target data into Y\n",
    "targets = ['60near25', 'middle60', '100near60', 'middle100', '100near25', 'middle25']\n",
    "Y = [[df.loc[x][e] for x in targets] for e in emotions]\n",
    "\n",
    "H_coef = []\n",
    "H_intercept = []\n",
    "print('-------------------------------------------------------')\n",
    "for e in range(len(emotions)):\n",
    "    H_coef.append([])\n",
    "    H_intercept.append(0)\n",
    "    print('Emotion:', emotions[e])\n",
    "    line = linreg.fit(X, Y[e])\n",
    "    H_coef[e] = line.coef_\n",
    "    H_intercept[e] = line.intercept_\n",
    "    print('coefs:')\n",
    "    print('\\tWin:\\t', line.coef_[0])\n",
    "    print('\\tPE:\\t', line.coef_[1])\n",
    "    print('\\tabsPE:\\t', line.coef_[2])\n",
    "    print('\\tNM:\\t', line.coef_[3])\n",
    "    print('\\nintercept:', '\\t', line.intercept_)\n",
    "    pred = []\n",
    "    for i in range(len(X)):\n",
    "        val = 0\n",
    "        for j in range(len(X[i])):\n",
    "            val = val + X[i][j] * H_coef[e][j]\n",
    "        val = val + H_intercept[e]\n",
    "        pred.append(val)\n",
    "    plt.plot(Y[e], pred, 'ro')\n",
    "    plt.plot([0,1,2,3,4,5,6,7,8,9,10])\n",
    "    plt.title('Model Fit – Near Hits and Middle')\n",
    "    plt.xlabel('Expected')\n",
    "    plt.ylabel('Predicted')\n",
    "    print('\\nr2:', '\\t\\t', metrics.r2_score(Y[e], pred))\n",
    "    print('\\n-------------------------------------------------------')"
   ]
  },
  {
   "cell_type": "code",
   "execution_count": 182,
   "metadata": {},
   "outputs": [
    {
     "data": {
      "image/png": "[encoded data removed]",
      "text/plain": [
       "<matplotlib.figure.Figure at 0x1a2a095be0>"
      ]
     },
     "metadata": {},
     "output_type": "display_data"
    },
    {
     "data": {
      "image/png": "[encoded data removed]",
      "text/plain": [
       "<matplotlib.figure.Figure at 0x1a2ab75b70>"
      ]
     },
     "metadata": {},
     "output_type": "display_data"
    },
    {
     "data": {
      "image/png": "[encoded data removed]",
      "text/plain": [
       "<matplotlib.figure.Figure at 0x1a2ac32780>"
      ]
     },
     "metadata": {},
     "output_type": "display_data"
    },
    {
     "data": {
      "image/png": "[encoded data removed]",
      "text/plain": [
       "<matplotlib.figure.Figure at 0x1a2ac76518>"
      ]
     },
     "metadata": {},
     "output_type": "display_data"
    }
   ],
   "source": [
    "for i in range(len(emotions)):\n",
    "    data = {'NearHitsAndMisses': HM_coef[i], 'NearMisses' : M_coef[i], 'NearHits' : H_coef[i]}\n",
    "    dataframe = pd.DataFrame(data = data)\n",
    "    dataframe['coef'] = ['win', 'PE', 'absPE', 'NM']\n",
    "    dataframe = dataframe.set_index('coef')\n",
    "    dataframe.plot.bar(title=emotions[i])"
   ]
  },
  {
   "cell_type": "code",
   "execution_count": null,
   "metadata": {
    "collapsed": true
   },
   "outputs": [],
   "source": []
  }
 ],
 "metadata": {
  "kernelspec": {
   "display_name": "Python 3",
   "language": "python",
   "name": "python3"
  },
  "language_info": {
   "codemirror_mode": {
    "name": "ipython",
    "version": 3
   },
   "file_extension": ".py",
   "mimetype": "text/x-python",
   "name": "python",
   "nbconvert_exporter": "python",
   "pygments_lexer": "ipython3",
   "version": "3.6.5"
  }
 },
 "nbformat": 4,
 "nbformat_minor": 2
}
